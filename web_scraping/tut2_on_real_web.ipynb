{
 "metadata": {
  "language_info": {
   "codemirror_mode": {
    "name": "ipython",
    "version": 3
   },
   "file_extension": ".py",
   "mimetype": "text/x-python",
   "name": "python",
   "nbconvert_exporter": "python",
   "pygments_lexer": "ipython3",
   "version": "3.8.5"
  },
  "orig_nbformat": 2,
  "kernelspec": {
   "name": "python385jvsc74a57bd082a93e9466893ddaf289fff1961ea299444cd32d807a5b56a48ff36194f49996",
   "display_name": "Python 3.8.5 64-bit"
  },
  "metadata": {
   "interpreter": {
    "hash": "82a93e9466893ddaf289fff1961ea299444cd32d807a5b56a48ff36194f49996"
   }
  }
 },
 "nbformat": 4,
 "nbformat_minor": 2,
 "cells": [
  {
   "cell_type": "code",
   "execution_count": 2,
   "metadata": {},
   "outputs": [],
   "source": [
    "from bs4 import BeautifulSoup\n",
    "import requests"
   ]
  },
  {
   "cell_type": "code",
   "execution_count": 7,
   "metadata": {
    "tags": []
   },
   "outputs": [],
   "source": [
    "html_text = requests.get('https://www.timesjobs.com/candidate/job-search.html?searchType=personalizedSearch&from=submit&txtKeywords=python&txtLocation=').text\n",
    "soup = BeautifulSoup(html_text,'lxml')"
   ]
  },
  {
   "cell_type": "code",
   "execution_count": 28,
   "metadata": {
    "tags": []
   },
   "outputs": [
    {
     "output_type": "stream",
     "name": "stdout",
     "text": [
      "company name: PureTechCodexPrivateLimited \nskills: rest,python,database,django,debugging,mongodb \n more info : https://www.timesjobs.com/job-detail/python-pure-tech-codex-private-limited-pune-2-to-3-yrs-jobid-OHwfF0d6EhNzpSvf__PLUS__uAgZw==&source=srp \n\ncompany name: SuryaInformaticsSolutionsPvt.Ltd. \nskills: python,webtechnologies,linux,mobile,mysql,angularjs,javascript \n more info : https://www.timesjobs.com/job-detail/python-surya-informatics-solutions-pvt-ltd-chennai-0-to-3-yrs-jobid-UVlLes58wutzpSvf__PLUS__uAgZw==&source=srp \n\ncompany name: GEMINISOFTWARESOLUTIONS \nskills: python,mobile,svn,nosql,pythonscripting,git,sqldatabase \n more info : https://www.timesjobs.com/job-detail/qa-python-python-sdet-gemini-software-solutions-gurgaon-4-to-7-yrs-jobid-jsOuZLK8chlzpSvf__PLUS__uAgZw==&source=srp \n\ncompany name: GeminiSolutions \nskills: python,mobile,svn,nosql,pythonscripting,git,api,sqldatabase \n more info : https://www.timesjobs.com/job-detail/qa-python-python-sdet-gemini-solutions-gurgaon-4-to-7-yrs-jobid-eGMLzwOk2QlzpSvf__PLUS__uAgZw==&source=srp \n\ncompany name: TECHNOPARKTRIVANDRUM \nskills: python,django,understandingofDjango \n more info : https://www.timesjobs.com/job-detail/python-developer-technopark-trivandrum-cochin-kochi-ernakulam-3-to-5-yrs-jobid-xGzuKVJAXMZzpSvf__PLUS__uAgZw==&source=srp \n\ncompany name: MOUNTTALENTCONSULTING \nskills: python,oops,softwaredeveloper \n more info : https://www.timesjobs.com/job-detail/python-developer-mount-talent-consulting-bengaluru-bangalore-4-to-8-yrs-jobid-MNhENmBr5Q5zpSvf__PLUS__uAgZw==&source=srp \n\ncompany name: MUVI.com \nskills: algorithms,python,machinelearning \n more info : https://www.timesjobs.com/job-detail/python-developer-muvi-com-bhubaneshwar-0-to-3-yrs-jobid-Iz__PLUS__Cib9eEqlzpSvf__PLUS__uAgZw==&source=srp \n\ncompany name: TandAHRSolutions \nskills: python,git,django \n more info : https://www.timesjobs.com/job-detail/python-developer-tanda-hr-solutions-chandigarh-5-to-8-yrs-jobid-id252yPhiLZzpSvf__PLUS__uAgZw==&source=srp \n\ncompany name: RandstadMENA \nskills: python,c,oracle,database \n more info : https://www.timesjobs.com/job-detail/python-testing-randstad-mena-bengaluru-bangalore-0-to-3-yrs-jobid-eOL1rxDnGktzpSvf__PLUS__uAgZw==&source=srp \n\ncompany name: TandAHRSolutions \nskills: python,git,django \n more info : https://www.timesjobs.com/job-detail/python-developers-tanda-hr-solutions-chandigarh-2-to-5-yrs-jobid-OtVSvO0kmYNzpSvf__PLUS__uAgZw==&source=srp \n\ncompany name: JobsLoConsultants \nskills: python,linux,windows,sql \n more info : https://www.timesjobs.com/job-detail/python-developer-jobslo-consultants-indore-2-to-3-yrs-jobid-XP1detWpoa5zpSvf__PLUS__uAgZw==&source=srp \n\ncompany name: ESCONINFOSYSTEMS \nskills: python,informationtechnology,angularjs,sql \n more info : https://www.timesjobs.com/job-detail/python-developer-escon-info-systems-faizabad-2-to-5-yrs-jobid-vAvmvTRgkUZzpSvf__PLUS__uAgZw==&source=srp \n\n"
     ]
    }
   ],
   "source": [
    "jobs1 = soup.find_all('li',class_ = 'clearfix job-bx wht-shd-bx')\n",
    "\n",
    "for jobs in jobs1:\n",
    "    day = jobs.find('span', class_='sim-posted').span.text.replace(' ','')\n",
    "    if 'few' in day:\n",
    "        company_name = jobs.find('h3',class_ = 'joblist-comp-name').text.replace(' ','')\n",
    "        skills = jobs.find('span',class_='srp-skills').text.replace(' ','')\n",
    "        more_info = jobs.header.h2.a['href']\n",
    "        print(f\"company name: {company_name.strip()} \")\n",
    "        print(f\"skills: {skills.strip()} \")\n",
    "        print(f\" more info : {more_info} \")\n",
    "        print()"
   ]
  },
  {
   "cell_type": "code",
   "execution_count": 1,
   "metadata": {},
   "outputs": [
    {
     "output_type": "error",
     "ename": "NameError",
     "evalue": "name 'driver' is not defined",
     "traceback": [
      "\u001b[1;31m---------------------------------------------------------------------------\u001b[0m",
      "\u001b[1;31mNameError\u001b[0m                                 Traceback (most recent call last)",
      "\u001b[1;32m<ipython-input-1-653c985825f1>\u001b[0m in \u001b[0;36m<module>\u001b[1;34m\u001b[0m\n\u001b[1;32m----> 1\u001b[1;33m \u001b[0mdriver\u001b[0m\u001b[1;33m.\u001b[0m\u001b[0mget\u001b[0m\u001b[1;33m(\u001b[0m\u001b[1;34m\"https://www.youtube.com/results?search_query=gender+based+violence+nigeria\"\u001b[0m\u001b[1;33m)\u001b[0m\u001b[1;33m\u001b[0m\u001b[1;33m\u001b[0m\u001b[0m\n\u001b[0m\u001b[0;32m      2\u001b[0m \u001b[0muser_data\u001b[0m \u001b[1;33m=\u001b[0m \u001b[0mdriver\u001b[0m\u001b[1;33m.\u001b[0m\u001b[0mfind_elements_by_xpath\u001b[0m\u001b[1;33m(\u001b[0m\u001b[1;34m'//*[@id=\"video-title\"]'\u001b[0m\u001b[1;33m)\u001b[0m\u001b[1;33m\u001b[0m\u001b[1;33m\u001b[0m\u001b[0m\n\u001b[0;32m      3\u001b[0m \u001b[1;33m\u001b[0m\u001b[0m\n\u001b[0;32m      4\u001b[0m \u001b[0mlinks\u001b[0m \u001b[1;33m=\u001b[0m \u001b[1;33m[\u001b[0m\u001b[1;33m]\u001b[0m\u001b[1;33m\u001b[0m\u001b[1;33m\u001b[0m\u001b[0m\n\u001b[0;32m      5\u001b[0m \u001b[1;32mfor\u001b[0m \u001b[0mi\u001b[0m \u001b[1;32min\u001b[0m \u001b[0muser_data\u001b[0m\u001b[1;33m:\u001b[0m\u001b[1;33m\u001b[0m\u001b[1;33m\u001b[0m\u001b[0m\n",
      "\u001b[1;31mNameError\u001b[0m: name 'driver' is not defined"
     ]
    }
   ],
   "source": []
  },
  {
   "cell_type": "code",
   "execution_count": null,
   "metadata": {},
   "outputs": [],
   "source": []
  }
 ]
}